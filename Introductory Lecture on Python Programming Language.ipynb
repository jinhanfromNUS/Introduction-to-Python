{
 "cells": [
  {
   "cell_type": "markdown",
   "metadata": {},
   "source": [
    "## Standard Data Types"
   ]
  },
  {
   "cell_type": "markdown",
   "metadata": {},
   "source": [
    "### Integer: int"
   ]
  },
  {
   "cell_type": "code",
   "execution_count": 79,
   "metadata": {},
   "outputs": [],
   "source": [
    "n = 105\n",
    "level = -3"
   ]
  },
  {
   "cell_type": "markdown",
   "metadata": {},
   "source": [
    "### Floating point: float"
   ]
  },
  {
   "cell_type": "code",
   "execution_count": 80,
   "metadata": {},
   "outputs": [],
   "source": [
    "pi = 3.1415\n",
    "e = -1.602e-19"
   ]
  },
  {
   "cell_type": "markdown",
   "metadata": {},
   "source": [
    "### Complex: complex \n",
    "j = sqrt(-1)"
   ]
  },
  {
   "cell_type": "code",
   "execution_count": 81,
   "metadata": {},
   "outputs": [],
   "source": [
    "z = -1 + 3.2j\n",
    "i = (-1)**(0.5)"
   ]
  },
  {
   "cell_type": "markdown",
   "metadata": {},
   "source": [
    "### String: str\n",
    "Enclosed by a pair of single ('string') or double (\"string\") quotation marks"
   ]
  },
  {
   "cell_type": "code",
   "execution_count": 82,
   "metadata": {},
   "outputs": [],
   "source": [
    "university = \"NUS\"\n",
    "s = \"HI I am a STRINGGG\""
   ]
  },
  {
   "cell_type": "markdown",
   "metadata": {},
   "source": [
    "### Boolean: bool"
   ]
  },
  {
   "cell_type": "code",
   "execution_count": 83,
   "metadata": {},
   "outputs": [],
   "source": [
    "expired = True\n",
    "is_completed = False"
   ]
  },
  {
   "cell_type": "markdown",
   "metadata": {},
   "source": [
    "### List: list\n",
    "* Ordered - Access individual items using indices (0-based)\n",
    "* Mixed data type allowed\n",
    "* Use sqaure bracket []"
   ]
  },
  {
   "cell_type": "code",
   "execution_count": 84,
   "metadata": {},
   "outputs": [],
   "source": [
    "year = [2020, 2021, 2022]\n",
    "mixed = [\"hi\", 'a', 32e-200, 90j, 2, True, (\"hello again\", 2 + 33j)]"
   ]
  },
  {
   "cell_type": "markdown",
   "metadata": {},
   "source": [
    "### Tuple: tuple\n",
    "* Like a list but the content is unchangable\n",
    "* Use paratheses ()"
   ]
  },
  {
   "cell_type": "code",
   "execution_count": 85,
   "metadata": {},
   "outputs": [],
   "source": [
    "primary_colours = (\"red\", \"green\", \"blue\")\n",
    "personal_information = (\"Jin Han\", 18, 39866, True, True, False, \"AAAAAABB\")"
   ]
  },
  {
   "cell_type": "markdown",
   "metadata": {},
   "source": [
    "### Dictionary: dict\n",
    "* Hold key-value pairs\n",
    "* Unordered - Access values using keys\n",
    "* Use angular bracket {key:value}"
   ]
  },
  {
   "cell_type": "code",
   "execution_count": 86,
   "metadata": {},
   "outputs": [],
   "source": [
    "university = {\"name\":\"National University of Singapore\", \"abbrevation\":\"NUS\", \"QSranking\":8, \"course\":\"computer science\"}\n",
    "count = {1:3, 2:4, 4:90, 5:6}"
   ]
  },
  {
   "cell_type": "markdown",
   "metadata": {},
   "source": [
    "### Set\n",
    "* No duplicate values\n",
    "* Unordered\n",
    "* Use angular bracket {}\n",
    "* Can use List(something) == Set(something) to check if something has duplicate values"
   ]
  },
  {
   "cell_type": "code",
   "execution_count": 87,
   "metadata": {},
   "outputs": [],
   "source": [
    "fruits = {\"apple\", \"banana\", \"cherry\"}"
   ]
  },
  {
   "cell_type": "markdown",
   "metadata": {},
   "source": [
    "## Variables"
   ]
  },
  {
   "cell_type": "markdown",
   "metadata": {},
   "source": [
    "### Integer"
   ]
  },
  {
   "cell_type": "code",
   "execution_count": 88,
   "metadata": {},
   "outputs": [],
   "source": [
    "a = 123"
   ]
  },
  {
   "cell_type": "markdown",
   "metadata": {},
   "source": [
    "### String"
   ]
  },
  {
   "cell_type": "code",
   "execution_count": 89,
   "metadata": {},
   "outputs": [],
   "source": [
    "b = \"hi\""
   ]
  },
  {
   "cell_type": "markdown",
   "metadata": {},
   "source": [
    "### Float"
   ]
  },
  {
   "cell_type": "code",
   "execution_count": 90,
   "metadata": {},
   "outputs": [],
   "source": [
    "c = a + 0.5"
   ]
  },
  {
   "cell_type": "markdown",
   "metadata": {},
   "source": [
    "### Boolean"
   ]
  },
  {
   "cell_type": "code",
   "execution_count": 91,
   "metadata": {},
   "outputs": [],
   "source": [
    "d = a == c"
   ]
  },
  {
   "cell_type": "markdown",
   "metadata": {},
   "source": [
    "### List"
   ]
  },
  {
   "cell_type": "code",
   "execution_count": 92,
   "metadata": {},
   "outputs": [],
   "source": [
    "e = [a, b, 'I am a String']"
   ]
  },
  {
   "cell_type": "markdown",
   "metadata": {},
   "source": [
    "### Tuple"
   ]
  },
  {
   "cell_type": "code",
   "execution_count": 93,
   "metadata": {},
   "outputs": [
    {
     "data": {
      "text/plain": [
       "(123, 'hi', 123.5, False, [123, 'hi', 'I am a String'])"
      ]
     },
     "execution_count": 93,
     "metadata": {},
     "output_type": "execute_result"
    }
   ],
   "source": [
    "(a, b, c, d, e)"
   ]
  },
  {
   "cell_type": "markdown",
   "metadata": {},
   "source": [
    "## Classes and Object\n",
    "\n",
    "Object - A collection of attributes and functions that act on attributes<br />\n",
    "Class - A template for an object\n",
    "<hr />\n",
    "\n",
    "* An object is an instance of a class\n",
    "* Attributes and functions of an object are defined in its class "
   ]
  },
  {
   "cell_type": "markdown",
   "metadata": {},
   "source": [
    "### Creating a class"
   ]
  },
  {
   "cell_type": "code",
   "execution_count": 94,
   "metadata": {},
   "outputs": [],
   "source": [
    "class SalesEmployee:\n",
    "    def __init__(self, name, salary):\n",
    "        self.name = name\n",
    "        self.salary = salary\n",
    "        self.sales = 0.0\n",
    "    \n",
    "    # Other functions (member functions)\n",
    "    def change_employee_name(self, new_name):\n",
    "        self.name = new_name\n",
    "\n",
    "    def raise_salary_percentage(self, percentage):\n",
    "        self.salary += self.salary * (percentage/100) "
   ]
  },
  {
   "cell_type": "markdown",
   "metadata": {},
   "source": [
    "### Creating objects of the class"
   ]
  },
  {
   "cell_type": "code",
   "execution_count": 95,
   "metadata": {},
   "outputs": [],
   "source": [
    "amy = SalesEmployee('Amy Alton', 3200.00)\n",
    "ben = SalesEmployee('Ben Brown', 2950.00)"
   ]
  },
  {
   "cell_type": "markdown",
   "metadata": {},
   "source": [
    "### Using other functions"
   ]
  },
  {
   "cell_type": "code",
   "execution_count": 96,
   "metadata": {},
   "outputs": [],
   "source": [
    "amy.change_employee_name(\"nick\")\n",
    "ben.raise_salary_percentage(30)"
   ]
  },
  {
   "cell_type": "markdown",
   "metadata": {},
   "source": [
    "### Access object's attributes"
   ]
  },
  {
   "cell_type": "code",
   "execution_count": 97,
   "metadata": {},
   "outputs": [
    {
     "name": "stdout",
     "output_type": "stream",
     "text": [
      "Amy's new name is nick\n",
      "Ben's salary is 3835.0\n"
     ]
    }
   ],
   "source": [
    "print(f\"Amy's new name is {amy.name}\")\n",
    "print(f\"Ben's salary is {ben.salary}\")"
   ]
  },
  {
   "cell_type": "markdown",
   "metadata": {},
   "source": [
    "## Basic Operations - int, float, complex"
   ]
  },
  {
   "cell_type": "markdown",
   "metadata": {},
   "source": [
    "### Arithmetic \n",
    "* Basic arithmetic: +, -, *, /\n",
    "* Floor division: //\n",
    "* Exponent: **"
   ]
  },
  {
   "cell_type": "code",
   "execution_count": 98,
   "metadata": {},
   "outputs": [
    {
     "name": "stdout",
     "output_type": "stream",
     "text": [
      "-4 0.4 -3600.0 (5+4j)\n"
     ]
    }
   ],
   "source": [
    "print(1-5, 2/5, 1.2e3*-3, (3+4j)+2)"
   ]
  },
  {
   "cell_type": "markdown",
   "metadata": {},
   "source": [
    "### Comparison \n",
    "* Equal, not equal: ==, != (Avoid on floats)\n",
    "* Greater than: >\n",
    "* Greater than or equal: >=\n",
    "* Lesser than <\n",
    "* Lesser than or equal <="
   ]
  },
  {
   "cell_type": "code",
   "execution_count": 99,
   "metadata": {},
   "outputs": [
    {
     "name": "stdout",
     "output_type": "stream",
     "text": [
      "True False False False\n"
     ]
    }
   ],
   "source": [
    "print(5-2 == 1+2, -3.5 > 2, 1+(4/3)**2 == (5/3)**2, 9/4 <= 2)"
   ]
  },
  {
   "cell_type": "markdown",
   "metadata": {},
   "source": [
    "## Basic Operations - bool"
   ]
  },
  {
   "cell_type": "markdown",
   "metadata": {},
   "source": [
    "### Logical\n",
    "* not\n",
    "* or\n",
    "* and\n",
    "\n",
    "Arithmetic / comparison on bool\n",
    "* True is equivalent to int(1)\n",
    "* False is equivalent to int(0)"
   ]
  },
  {
   "cell_type": "code",
   "execution_count": 100,
   "metadata": {},
   "outputs": [
    {
     "name": "stdout",
     "output_type": "stream",
     "text": [
      "False True True False\n"
     ]
    }
   ],
   "source": [
    "print(not True, not 2 != 2, True or False, True and False)"
   ]
  },
  {
   "cell_type": "markdown",
   "metadata": {},
   "source": [
    "## Basic Operations - str"
   ]
  },
  {
   "cell_type": "markdown",
   "metadata": {},
   "source": [
    "### Concatenate: +"
   ]
  },
  {
   "cell_type": "code",
   "execution_count": 101,
   "metadata": {},
   "outputs": [
    {
     "name": "stdout",
     "output_type": "stream",
     "text": [
      "Hello World!\n"
     ]
    }
   ],
   "source": [
    "str1, str2 = \"Hello\", \"World!\"\n",
    "print(str1 + \" \" + str2)"
   ]
  },
  {
   "cell_type": "markdown",
   "metadata": {},
   "source": [
    "### Count a substring occurence: count"
   ]
  },
  {
   "cell_type": "code",
   "execution_count": 102,
   "metadata": {},
   "outputs": [
    {
     "name": "stdout",
     "output_type": "stream",
     "text": [
      "2\n",
      "6\n"
     ]
    }
   ],
   "source": [
    "s = \"Hello World! Hello to Python programming.\"\n",
    "print(s.count(\"Hello\"))\n",
    "print(s.count('o'))"
   ]
  },
  {
   "cell_type": "markdown",
   "metadata": {},
   "source": [
    "### Get length: len"
   ]
  },
  {
   "cell_type": "code",
   "execution_count": 103,
   "metadata": {},
   "outputs": [
    {
     "data": {
      "text/plain": [
       "30"
      ]
     },
     "execution_count": 103,
     "metadata": {},
     "output_type": "execute_result"
    }
   ],
   "source": [
    "s = \"Hello World! Here we go again!\"\n",
    "len(s)"
   ]
  },
  {
   "cell_type": "markdown",
   "metadata": {},
   "source": [
    "### Locate a substring: index"
   ]
  },
  {
   "cell_type": "code",
   "execution_count": 104,
   "metadata": {},
   "outputs": [
    {
     "name": "stdout",
     "output_type": "stream",
     "text": [
      "3\n",
      "3\n",
      "4\n"
     ]
    }
   ],
   "source": [
    "s = \"cheddar\"\n",
    "print(s.index('d'))\n",
    "print(s.index(\"dd\"))\n",
    "print(s.index(\"da\"))"
   ]
  },
  {
   "cell_type": "markdown",
   "metadata": {},
   "source": [
    "### Slice: [start:end:skip]\n",
    "* From start up to but NOT including end picking item every skip\n",
    "* Negative index - Alternative index that runs backward from the last characterer\n",
    "* Negative slice - Slice in reverse direction"
   ]
  },
  {
   "cell_type": "code",
   "execution_count": 105,
   "metadata": {},
   "outputs": [
    {
     "name": "stdout",
     "output_type": "stream",
     "text": [
      "e\n",
      "ed\n",
      "hda\n",
      "rde\n"
     ]
    }
   ],
   "source": [
    "s = \"cheddar\"\n",
    "print(s[2])\n",
    "print(s[2:4])\n",
    "print(s[1:6:2])\n",
    "print(s[-1:1:-2])"
   ]
  },
  {
   "cell_type": "markdown",
   "metadata": {},
   "source": [
    "Shorthand notations"
   ]
  },
  {
   "cell_type": "code",
   "execution_count": 106,
   "metadata": {},
   "outputs": [
    {
     "name": "stdout",
     "output_type": "stream",
     "text": [
      "0987654321\n",
      "890\n",
      "12345678\n",
      "4321\n",
      "0987\n"
     ]
    }
   ],
   "source": [
    "s = \"1234567890\"\n",
    "\n",
    "# Reverse all characters\n",
    "print(s[::-1])\n",
    "\n",
    "# Last 3 characters\n",
    "print(s[-3:])\n",
    "\n",
    "# All except last 2 characters\n",
    "print(s[:-2])\n",
    "\n",
    "# First four characters, reversed\n",
    "print(s[3::-1])\n",
    "\n",
    "# Last four characters, reversed\n",
    "print(s[:-5:-1])"
   ]
  },
  {
   "cell_type": "markdown",
   "metadata": {},
   "source": [
    "### Cast to upper/lowercase: upper/lower "
   ]
  },
  {
   "cell_type": "code",
   "execution_count": 107,
   "metadata": {},
   "outputs": [
    {
     "name": "stdout",
     "output_type": "stream",
     "text": [
      "HELLO WORLD!\n",
      "hello world!\n"
     ]
    }
   ],
   "source": [
    "s = \"Hello World!\"\n",
    "print(s.upper())\n",
    "print(s.lower())"
   ]
  },
  {
   "cell_type": "markdown",
   "metadata": {},
   "source": [
    "### Replace a substring: replace"
   ]
  },
  {
   "cell_type": "code",
   "execution_count": 108,
   "metadata": {},
   "outputs": [
    {
     "name": "stdout",
     "output_type": "stream",
     "text": [
      "Their coming to twon tonight.\n",
      "They are coming to town tonight.\n"
     ]
    }
   ],
   "source": [
    "s = \"Their coming to twon tonight.\"\n",
    "corrected_s = s.replace(\"Their\", \"They are\").replace(\"twon\", \"town\")\n",
    "print(s)\n",
    "print(corrected_s)"
   ]
  },
  {
   "cell_type": "markdown",
   "metadata": {},
   "source": [
    "### Break str at operator: split\n",
    "* Default seperator - whitespace\n",
    "* Useful for importing, e.g. CSV (comma-seperated values) files"
   ]
  },
  {
   "cell_type": "code",
   "execution_count": 109,
   "metadata": {},
   "outputs": [
    {
     "name": "stdout",
     "output_type": "stream",
     "text": [
      "['Today,', 'I', \"don't,\", 'feel', 'like,', 'doing', 'anything.']\n",
      "['Today', \" I don't\", ' feel like', ' doing anything.']\n",
      "[\"Today, I don't, \", ' like, doing anything.']\n"
     ]
    }
   ],
   "source": [
    "s = \"Today, I don't, feel like, doing anything.\"\n",
    "print(s.split())\n",
    "print(s.split(','))\n",
    "print(s.split('feel'))"
   ]
  },
  {
   "cell_type": "markdown",
   "metadata": {},
   "source": [
    "## Basic Operations - list\n",
    "* Ordered collection of data\n",
    "* Use indices to access, reassign or delete items"
   ]
  },
  {
   "cell_type": "code",
   "execution_count": 110,
   "metadata": {},
   "outputs": [
    {
     "name": "stdout",
     "output_type": "stream",
     "text": [
      "6\n",
      "Before reassignement: 9\n",
      "After reassignement: 9\n",
      "[2, 3.4, 9.9, 6, 2, -4]\n"
     ]
    }
   ],
   "source": [
    "scores = [2, 3.4, 5, 6, 9, 2, -4]\n",
    "print(scores[3])\n",
    "\n",
    "print(f\"Before reassignement: {scores[4]}\")\n",
    "scores[2] = 9.9\n",
    "print(f\"After reassignement: {scores[4]}\")\n",
    "\n",
    "del scores[-3] # delete the last second score in the list\n",
    "print(scores)"
   ]
  },
  {
   "cell_type": "markdown",
   "metadata": {},
   "source": [
    "### List operations similar to string operations"
   ]
  },
  {
   "cell_type": "code",
   "execution_count": 111,
   "metadata": {},
   "outputs": [
    {
     "data": {
      "text/plain": [
       "2"
      ]
     },
     "execution_count": 111,
     "metadata": {},
     "output_type": "execute_result"
    }
   ],
   "source": [
    "scores.count(2)"
   ]
  },
  {
   "cell_type": "code",
   "execution_count": 112,
   "metadata": {},
   "outputs": [
    {
     "name": "stdout",
     "output_type": "stream",
     "text": [
      "[15.6, 0.2, 0.2]\n"
     ]
    }
   ],
   "source": [
    "rainfall = [0, 3.2, 15.6, 0.2, 0.2, 0, 43.8]\n",
    "print(rainfall[2:5]) # from third to fifth items (does not manipulate original list)\n",
    "\n",
    "rainfall[::-1] # all items, reversed (does not manipulate original list)\n",
    "\n",
    "rainfall [:-2] # all except last two items (does not manipulate original list)\n",
    "\n",
    "rainfall[-2:] = [0.4, 6.2] # reassign last two items (manipulate original list)\n",
    "\n",
    "del rainfall[-3:] # delete last three items (manipulate original list)"
   ]
  },
  {
   "cell_type": "markdown",
   "metadata": {},
   "source": [
    "### Add items: append, insert\n",
    "* append: add to the back of the list\n",
    "* insert: add at certain position of the list"
   ]
  },
  {
   "cell_type": "code",
   "execution_count": 113,
   "metadata": {},
   "outputs": [
    {
     "name": "stdout",
     "output_type": "stream",
     "text": [
      "[0, 3.2, 0.2, 0.2, 0, 43.8]\n",
      "[0, 3.2, 15.6, 0.2, 0.2, 0, 43.8]\n"
     ]
    }
   ],
   "source": [
    "rainfall = [0, 3.2, 0.2, 0.2, 0]\n",
    "rainfall.append(43.8)\n",
    "print(rainfall)\n",
    "\n",
    "rainfall.insert(2, 15.6)\n",
    "print(rainfall)"
   ]
  },
  {
   "cell_type": "markdown",
   "metadata": {},
   "source": [
    "### Remove items: remove, pop\n",
    "* remove: remove the first occurence of _ in the list\n",
    "* pop: removes index i, and returns it"
   ]
  },
  {
   "cell_type": "code",
   "execution_count": 114,
   "metadata": {},
   "outputs": [
    {
     "name": "stdout",
     "output_type": "stream",
     "text": [
      "[0, 3.2, 15.6, 0.2, 0, 43.8]\n",
      "[0, 3.2, 15.6, 0.2, 43.8]\n"
     ]
    }
   ],
   "source": [
    "rainfall = [0, 3.2, 15.6, 0.2, 0.2, 0, 43.8]\n",
    "rainfall.remove(0.2) # remove first occurrence of 0.2\n",
    "print(rainfall)\n",
    "rainfall.pop(4)\n",
    "print(rainfall)"
   ]
  },
  {
   "cell_type": "markdown",
   "metadata": {},
   "source": [
    "### Sort item: sort\n",
    "* Manipulates original list data\n",
    "* Use reverse=True to sort in descending order"
   ]
  },
  {
   "cell_type": "code",
   "execution_count": 115,
   "metadata": {},
   "outputs": [
    {
     "name": "stdout",
     "output_type": "stream",
     "text": [
      "Default sorting: [1, 2, 3, 3, 4.2, 5.9, 6]\n",
      "Reverse=True sort: [6, 5.9, 4.2, 3, 3, 2, 1]\n"
     ]
    }
   ],
   "source": [
    "scores = [2, 3, 1, 3, 4.2, 5.9, 6]\n",
    "\n",
    "scores.sort()\n",
    "print(f\"Default sorting: {scores}\")\n",
    "\n",
    "scores.sort(reverse=True)\n",
    "print(f\"Reverse=True sort: {scores}\")\n"
   ]
  },
  {
   "cell_type": "markdown",
   "metadata": {},
   "source": [
    "### Nested List\n",
    "* List within another list as its item\n",
    "* Same slice and list operations apply\n",
    "* Nested list is allowed with list, tuple, dict or set as its items"
   ]
  },
  {
   "cell_type": "code",
   "execution_count": 116,
   "metadata": {},
   "outputs": [
    {
     "name": "stdout",
     "output_type": "stream",
     "text": [
      "8\n",
      "3\n",
      "3\n",
      "2\n",
      "[[1, 2, 3], [4, 5, 6]]\n",
      "[5, 6]\n",
      "[[1, 2, 3], [6, 5, 4], [7, 8]]\n"
     ]
    }
   ],
   "source": [
    "matrix = [[1, 2, 3], [4, 5, 6], [7, 8]]\n",
    "print(matrix[2][1])\n",
    "print(len(matrix))\n",
    "print(len(matrix[1]))\n",
    "print(len(matrix[2]))\n",
    "\n",
    "print(matrix[:2])\n",
    "print(matrix[1][-2:])\n",
    "\n",
    "matrix[1].sort(reverse=True)\n",
    "print(matrix)"
   ]
  },
  {
   "cell_type": "markdown",
   "metadata": {},
   "source": [
    "## Basic Operations - tuple\n",
    "* Ordered collection of data similar to list"
   ]
  },
  {
   "cell_type": "markdown",
   "metadata": {},
   "source": [
    "### Tuple CANNOT reassign items, but CAN append another tuple"
   ]
  },
  {
   "cell_type": "code",
   "execution_count": 117,
   "metadata": {},
   "outputs": [],
   "source": [
    "# Trying to change the content of tuple (cities)\n",
    "cities = ('Paris', 'Berlin', ('Rome', 'Vatican'))\n",
    "cities[1] = 'Madrid'"
   ]
  },
  {
   "cell_type": "markdown",
   "metadata": {},
   "source": [
    "### Nested tuple is allowed with list, tuple, dict or set as its items"
   ]
  },
  {
   "cell_type": "code",
   "execution_count": 118,
   "metadata": {},
   "outputs": [
    {
     "name": "stdout",
     "output_type": "stream",
     "text": [
      "1.4: <class 'float'>\n",
      "(0.03+2j): <class 'complex'>\n",
      "False: <class 'bool'>\n",
      "This is a String: <class 'str'>\n",
      "{1: 2, 2: 4, 'Banana': 2, 'Apple': 30}: <class 'dict'>\n",
      "{'Subset1', 'Subset2', 'Subset3'}: <class 'set'>\n",
      "('Rome', 'Vatican'): <class 'tuple'>\n"
     ]
    }
   ],
   "source": [
    "cities = (1.4, 3e-2 + 2j, False, 'This is a String', {1:2, 2:4, \"Banana\": 2, \"Apple\": 30}, {\"Subset1\", \"Subset2\", \"Subset3\"}, ('Rome', 'Vatican'))\n",
    "\n",
    "print(*(f\"{item}: {type(item)}\" for item in cities), sep='\\n')"
   ]
  },
  {
   "cell_type": "markdown",
   "metadata": {},
   "source": [
    "### Tuple operations which are similar to String"
   ]
  },
  {
   "cell_type": "code",
   "execution_count": 119,
   "metadata": {},
   "outputs": [
    {
     "name": "stdout",
     "output_type": "stream",
     "text": [
      "('Apple', 'Banana', 'Durian', 'Papaya', 'Mango', 'Strawberry')\n",
      "('Banana', 'Durian')\n",
      "1\n",
      "2\n"
     ]
    }
   ],
   "source": [
    "fruits = ('Apple', 'Banana', 'Durian', 'Papaya', 'Mango')\n",
    "\n",
    "# Adding a item into the tuple\n",
    "fruits += ('Strawberry', )\n",
    "print(fruits)\n",
    "\n",
    "# Print item from index 1 to index 2\n",
    "print(fruits[1:3])\n",
    "\n",
    "print(fruits.count(\"Durian\"))\n",
    "\n",
    "print(fruits.index(\"Durian\"))"
   ]
  },
  {
   "cell_type": "markdown",
   "metadata": {},
   "source": [
    "## Basic Operations – dict"
   ]
  },
  {
   "cell_type": "markdown",
   "metadata": {},
   "source": [
    "### No index for item access – Use keys"
   ]
  },
  {
   "cell_type": "code",
   "execution_count": 120,
   "metadata": {},
   "outputs": [
    {
     "name": "stdout",
     "output_type": "stream",
     "text": [
      "dict_keys(['Chicken Rice', 'Fried Rice', 'Ice Cream'])\n",
      "dict_values([13, 12, 9])\n"
     ]
    }
   ],
   "source": [
    "price = {'Chicken Rice': 13, 'Fried Rice': 12, 'Ice Cream': 9}\n",
    "\n",
    "# dict.keys() - Returns list of keys\n",
    "print(price.keys())\n",
    "\n",
    "# dict.values() - Returns list of values\n",
    "print(price.values())"
   ]
  },
  {
   "cell_type": "markdown",
   "metadata": {},
   "source": [
    "## Basic Opeations - Set\n",
    "* Nested set is allowed tuple as its items"
   ]
  },
  {
   "cell_type": "markdown",
   "metadata": {},
   "source": [
    "### Unordered collection of unique items"
   ]
  },
  {
   "cell_type": "code",
   "execution_count": 121,
   "metadata": {},
   "outputs": [
    {
     "name": "stdout",
     "output_type": "stream",
     "text": [
      "{'bob', 'Alice', 'Bob', 'Charlie'}\n"
     ]
    }
   ],
   "source": [
    "# Second 'Bob' is not registered\n",
    "name = {'Alice', 'Bob', 'Charlie', 'Bob', 'bob'}\n",
    "print(name)"
   ]
  },
  {
   "cell_type": "markdown",
   "metadata": {},
   "source": [
    "### Add/remove items: update/remove (manipulate set itself)"
   ]
  },
  {
   "cell_type": "code",
   "execution_count": 122,
   "metadata": {},
   "outputs": [
    {
     "name": "stdout",
     "output_type": "stream",
     "text": [
      "{'bob', 'Alice', 'Charlie', 'Bob', 'Dave'}\n",
      "{'Alice', 'Charlie', 'Bob', 'Dave'}\n"
     ]
    }
   ],
   "source": [
    "name = {'Alice', 'Bob', 'Charlie', 'bob'}\n",
    "name.update({'Dave'}) # If ('Dave') then it means update ({'D'}, {'a'}, {'v'}, {'e'})\n",
    "print(name)\n",
    "\n",
    "name.remove('bob')\n",
    "print(name)"
   ]
  },
  {
   "cell_type": "markdown",
   "metadata": {},
   "source": [
    "### Union, intersection, difference, symmetric difference: |, &, -, ^"
   ]
  },
  {
   "cell_type": "code",
   "execution_count": 123,
   "metadata": {},
   "outputs": [
    {
     "name": "stdout",
     "output_type": "stream",
     "text": [
      "{'person5', 'person4', 'person3', 'person1', 'person2'}\n",
      "{'person3'}\n",
      "{'person1', 'person2'} {'person5', 'person4'}\n",
      "{'person5', 'person4', 'person1', 'person2'}\n"
     ]
    }
   ],
   "source": [
    "group1 = {'person1', 'person2', 'person3'}\n",
    "group2 = {'person3', 'person4', 'person5'}\n",
    "\n",
    "# Union\n",
    "print(group1 | group2)\n",
    "\n",
    "# Intersection\n",
    "print(group1 & group2)\n",
    "\n",
    "# difference\n",
    "print(group1 - group2, group2 - group1)\n",
    "\n",
    "# Symmetric difference (Opposite of Intersection (Remove intersection))\n",
    "print(group1 ^ group2)"
   ]
  },
  {
   "cell_type": "markdown",
   "metadata": {},
   "source": [
    "## Data Type Conversion"
   ]
  },
  {
   "cell_type": "markdown",
   "metadata": {},
   "source": [
    "### Implicit - Data type is automatically determined after an operation"
   ]
  },
  {
   "cell_type": "code",
   "execution_count": 124,
   "metadata": {},
   "outputs": [
    {
     "name": "stdout",
     "output_type": "stream",
     "text": [
      "(6+2j) is <class 'complex'>\n"
     ]
    }
   ],
   "source": [
    "a = 3 # Integer\n",
    "b = 3 + 2j # Complex\n",
    "c = a + b\n",
    "print(f'{c} is {type(c)}')"
   ]
  },
  {
   "cell_type": "markdown",
   "metadata": {},
   "source": [
    "Explicit - Data type is converted manualy\n",
    "* AKA Type casting"
   ]
  },
  {
   "cell_type": "code",
   "execution_count": 125,
   "metadata": {},
   "outputs": [
    {
     "name": "stdout",
     "output_type": "stream",
     "text": [
      "Hello. Nice to meet you.  I am 40 years old!\n",
      "Hello.Nice to meet you. I am 40 years old!\n"
     ]
    }
   ],
   "source": [
    "str1 = \"Hello.\"\n",
    "str2 = \"Nice to meet you. \"\n",
    "age = 40\n",
    "print(f\"{str1} {str2} I am {age} years old!\")\n",
    "# or this \n",
    "print(str1 + str2 + \"I am \" + str(age) + \" years old!\") # Remember to not declare your string as str as it is a function"
   ]
  },
  {
   "cell_type": "markdown",
   "metadata": {},
   "source": [
    "## Identity and Membership"
   ]
  },
  {
   "cell_type": "markdown",
   "metadata": {},
   "source": [
    "### Identity Test\n",
    "* ==, !=: Checks if the value is the same\n",
    "* is, is not check if the variables point to the same object"
   ]
  },
  {
   "cell_type": "code",
   "execution_count": 126,
   "metadata": {},
   "outputs": [
    {
     "name": "stdout",
     "output_type": "stream",
     "text": [
      "True False True\n",
      "True True False\n"
     ]
    }
   ],
   "source": [
    "a, b = [1, 2, 3], [1, 2, 3]\n",
    "print(a == b, a is b, a is not b)\n",
    "\n",
    "c = a\n",
    "print (a == c, a is c, a is not c)"
   ]
  },
  {
   "cell_type": "markdown",
   "metadata": {},
   "source": [
    "### Membership Test\n",
    "* Check if an object is present in a str or a Data Structure (list, tuple, dict, set)\n",
    "* For dict, only the keys are checked, NOT the values"
   ]
  },
  {
   "cell_type": "code",
   "execution_count": 127,
   "metadata": {},
   "outputs": [
    {
     "name": "stdout",
     "output_type": "stream",
     "text": [
      "True True\n",
      "True False\n",
      "True False False\n"
     ]
    }
   ],
   "source": [
    "print(3 in [1, 2, 3, 4], 0 not in [1, 2, 3, 4])\n",
    "\n",
    "s = \"Hello World!\"\n",
    "print('He' in s, 'Python' in s)\n",
    "\n",
    "dict = {'a':3, 'b':4, 'd':7}\n",
    "print('a' in dict, 'c' in dict, 3 in dict)"
   ]
  },
  {
   "cell_type": "markdown",
   "metadata": {},
   "source": [
    "## Control Flow"
   ]
  },
  {
   "cell_type": "markdown",
   "metadata": {},
   "source": [
    "### if, elif, else"
   ]
  },
  {
   "cell_type": "code",
   "execution_count": 128,
   "metadata": {},
   "outputs": [
    {
     "name": "stdout",
     "output_type": "stream",
     "text": [
      "Congrats!\n"
     ]
    }
   ],
   "source": [
    "age = int(input(\"Please enter your age?\"))\n",
    "\n",
    "if age < 0:\n",
    "    print(\"Wrong age entered.\")\n",
    "elif age < 18:\n",
    "    print(\"Prepare for university!\")\n",
    "elif (age < 24):\n",
    "    print(\"Grind for university!\")\n",
    "else:\n",
    "    print(\"Congrats!\")"
   ]
  },
  {
   "cell_type": "markdown",
   "metadata": {},
   "source": [
    "### While"
   ]
  },
  {
   "cell_type": "code",
   "execution_count": 129,
   "metadata": {},
   "outputs": [
    {
     "name": "stdout",
     "output_type": "stream",
     "text": [
      "Python is fun 0\n",
      "Python is fun 1\n",
      "Python is fun 2\n",
      "Python is fun 3\n"
     ]
    }
   ],
   "source": [
    "i = 0\n",
    "while (True):\n",
    "    if (i > 3):\n",
    "        break\n",
    "    print(f\"Python is fun {i}\")\n",
    "    i += 1"
   ]
  },
  {
   "cell_type": "code",
   "execution_count": 130,
   "metadata": {},
   "outputs": [
    {
     "name": "stdout",
     "output_type": "stream",
     "text": [
      "Python is fun 0\n",
      "Python is fun 1\n",
      "Python is fun 2\n",
      "Python is fun 3\n"
     ]
    }
   ],
   "source": [
    "i = 0\n",
    "while (i < 4):\n",
    "    print(f\"Python is fun {i}\")\n",
    "    i += 1"
   ]
  },
  {
   "cell_type": "markdown",
   "metadata": {},
   "source": [
    "### For loop and iterable"
   ]
  },
  {
   "cell_type": "code",
   "execution_count": 131,
   "metadata": {},
   "outputs": [
    {
     "name": "stdout",
     "output_type": "stream",
     "text": [
      "Current i is 0\n",
      "Current i is 1\n",
      "Current i is 2\n",
      "Current i is 3\n",
      "Current i is 4\n",
      "Current i is 5\n",
      "Current i is 6\n",
      "Current i is 7\n",
      "Current i is 8\n"
     ]
    }
   ],
   "source": [
    "i = 0\n",
    "for i in range(9):\n",
    "    print(f\"Current i is {i}\")"
   ]
  },
  {
   "cell_type": "code",
   "execution_count": 132,
   "metadata": {},
   "outputs": [
    {
     "name": "stdout",
     "output_type": "stream",
     "text": [
      "We have apple\n",
      "We have banana\n",
      "We have papaya\n",
      "We have durian\n"
     ]
    }
   ],
   "source": [
    "fruits = [\"apple\", \"banana\", \"papaya\", \"durian\"]\n",
    "\n",
    "for fruit in fruits:\n",
    "    print(f\"We have {fruit}\")"
   ]
  },
  {
   "cell_type": "markdown",
   "metadata": {},
   "source": [
    "## Files Operations"
   ]
  },
  {
   "cell_type": "markdown",
   "metadata": {},
   "source": [
    "### Opening and Closing files"
   ]
  },
  {
   "cell_type": "code",
   "execution_count": 133,
   "metadata": {},
   "outputs": [],
   "source": [
    "# Open a file for reading (default mode)\n",
    "file = open(\"example.txt\", \"r\")\n",
    "# Perform file operations (e.g., read data)\n",
    "content = file.read()\n",
    "print(content)\n",
    "# Close the file after operations are done\n",
    "file.close()\n",
    "\n",
    "# Open a file for writing (this will create the file if it doesn't exist)\n",
    "file = open(\"example.txt\", \"w\")\n",
    "# Write data to the file\n",
    "file.write(\"Hello, world!\")\n",
    "# Close the file after writing\n",
    "file.close()\n",
    "\n",
    "# Open a file and automatically close it after the block\n",
    "with open(\"example.txt\", \"r\") as file:\n",
    "    content = file.read()\n",
    "    print(content)\n",
    "\n",
    "# Writing to a file with the 'with' statement\n",
    "with open(\"example.txt\", \"w\") as file:\n",
    "    file.write(\"Hello, world!\")"
   ]
  },
  {
   "cell_type": "markdown",
   "metadata": {},
   "source": [
    "### Reading Text Files\n",
    "* file.readline() - Read a line up to and including the newline character (‘\\n’), repeat until EOF (end of file) is reached\n",
    "* file.seek(0) - Move the current position of pointer of the file object to the beginning\n",
    "* file.readlines() - Read the entire file into list of str with each line as its item"
   ]
  },
  {
   "cell_type": "markdown",
   "metadata": {},
   "source": [
    "## File I/O in Other Formats\n",
    "* pickle — For serialising Python object directly in binary format<br />\n",
    "• NOT for data that is to be used across different languages<br />\n",
    "• Official documentation — https://docs.python.org/3/library/pickle.html<br /><br />\n",
    "* HDF5 — For handling very large numerical data independent of language<br />\n",
    "• Slice into multi-TB data, no need to hold the entire data in the memory<br />\n",
    "• Use a third-party package to interface with Python, e.g. h5py— http://docs.h5py.org/<br /><br />\n",
    "* JSON — Text-based language independent data-interchange format<br />\n",
    "• Store standard Python objects directly in a human readable file<br />\n",
    "• Official documentation — https://docs.python.org/3/library/ison.html<br />"
   ]
  },
  {
   "cell_type": "markdown",
   "metadata": {},
   "source": [
    "## Exception Handling"
   ]
  },
  {
   "cell_type": "markdown",
   "metadata": {},
   "source": [
    "### Handle any exception errors: try, except"
   ]
  },
  {
   "cell_type": "code",
   "execution_count": 134,
   "metadata": {},
   "outputs": [
    {
     "name": "stdout",
     "output_type": "stream",
     "text": [
      "Print(a+b) fails\n"
     ]
    }
   ],
   "source": [
    "a, b = 4, '5'\n",
    "try:\n",
    "    print(a+b)\n",
    "except:\n",
    "    print('Print(a+b) fails')"
   ]
  },
  {
   "cell_type": "code",
   "execution_count": 135,
   "metadata": {},
   "outputs": [
    {
     "name": "stdout",
     "output_type": "stream",
     "text": [
      "9\n"
     ]
    }
   ],
   "source": [
    "a, b = 4, '5'\n",
    "try:\n",
    "    print( a+b)\n",
    "except TypeError:\n",
    "    print(int(a)+int(b))"
   ]
  },
  {
   "cell_type": "markdown",
   "metadata": {},
   "source": [
    "### Handle exception errors differently\n",
    "* Execute specific except statements depending on the type of error encountered in try statements\n"
   ]
  },
  {
   "cell_type": "code",
   "execution_count": 136,
   "metadata": {},
   "outputs": [
    {
     "name": "stdout",
     "output_type": "stream",
     "text": [
      "A ValueError occurred. \n"
     ]
    }
   ],
   "source": [
    "try:\n",
    "    int('string')\n",
    "except TypeError:\n",
    "    print('A TypeError occurred.')\n",
    "except ValueError:\n",
    "    print( 'A ValueError occurred. ' )\n",
    "except:\n",
    "    print( 'An error occurred' )"
   ]
  },
  {
   "cell_type": "markdown",
   "metadata": {},
   "source": [
    "### Common ExceptionName\n",
    "* KeyError - Key is not found in a dictionary\n",
    "* IndexError - Index not found in the sequence\n",
    "* IOError - I/O operation failed\n",
    "* NameError - Identifier not found in the namespace\n",
    "* TypeError - Operation invalid for Data Type\n",
    "* ValueError - Invalid value for specified operation\n",
    "* ZeroDivisionError - Division by zero for all numeric types\n"
   ]
  },
  {
   "cell_type": "markdown",
   "metadata": {},
   "source": [
    "### try, except, else"
   ]
  },
  {
   "cell_type": "code",
   "execution_count": 137,
   "metadata": {},
   "outputs": [
    {
     "name": "stdout",
     "output_type": "stream",
     "text": [
      "It was a success!\n"
     ]
    }
   ],
   "source": [
    "string = '3'\n",
    "try:\n",
    "    number = int(string)\n",
    "except:\n",
    "    print('An error occurred.')\n",
    "else:\n",
    "    print('It was a success!')"
   ]
  },
  {
   "cell_type": "markdown",
   "metadata": {},
   "source": [
    "### try, (except), (else), finally\n",
    "* Always execute the indented finally statements regardless of whether an exception was encountered or not"
   ]
  },
  {
   "cell_type": "code",
   "execution_count": 138,
   "metadata": {},
   "outputs": [
    {
     "name": "stdout",
     "output_type": "stream",
     "text": [
      "An error occurred.\n",
      "I hope you enjoyed my code.\n"
     ]
    }
   ],
   "source": [
    "try:\n",
    "    number = int('3.0')\n",
    "except :\n",
    "    print('An error occurred.')\n",
    "else:\n",
    "    print('It was a success!')\n",
    "finally:\n",
    "    print('I hope you enjoyed my code.')"
   ]
  },
  {
   "cell_type": "markdown",
   "metadata": {},
   "source": [
    "### Manually raise an exception: raise"
   ]
  },
  {
   "cell_type": "code",
   "execution_count": 139,
   "metadata": {},
   "outputs": [
    {
     "ename": "ValueError",
     "evalue": "x must be positive.",
     "output_type": "error",
     "traceback": [
      "\u001b[1;31m---------------------------------------------------------------------------\u001b[0m",
      "\u001b[1;31mValueError\u001b[0m                                Traceback (most recent call last)",
      "Cell \u001b[1;32mIn[139], line 3\u001b[0m\n\u001b[0;32m      1\u001b[0m x \u001b[38;5;241m=\u001b[39m \u001b[38;5;241m-\u001b[39m\u001b[38;5;241m1\u001b[39m\n\u001b[0;32m      2\u001b[0m \u001b[38;5;28;01mif\u001b[39;00m x \u001b[38;5;241m<\u001b[39m \u001b[38;5;241m0\u001b[39m:\n\u001b[1;32m----> 3\u001b[0m     \u001b[38;5;28;01mraise\u001b[39;00m \u001b[38;5;167;01mValueError\u001b[39;00m(\u001b[38;5;124m'\u001b[39m\u001b[38;5;124mx must be positive.\u001b[39m\u001b[38;5;124m'\u001b[39m)\n",
      "\u001b[1;31mValueError\u001b[0m: x must be positive."
     ]
    }
   ],
   "source": [
    "x = -1\n",
    "if x < 0:\n",
    "    raise ValueError('x must be positive.')"
   ]
  },
  {
   "cell_type": "markdown",
   "metadata": {},
   "source": [
    "### Putting it all together"
   ]
  },
  {
   "cell_type": "code",
   "execution_count": 140,
   "metadata": {},
   "outputs": [
    {
     "name": "stdout",
     "output_type": "stream",
     "text": [
      "99 is successfully registered.\n"
     ]
    }
   ],
   "source": [
    "numberstr = input('Enter a number between @ and 100: ')\n",
    "try:\n",
    "    number = float(numberstr)\n",
    "    if number<0:\n",
    "        raise RuntimeError\n",
    "    elif number>100:\n",
    "        raise RuntimeError\n",
    "except RuntimeError:\n",
    "    print('Your number is outside of the range.')\n",
    "except ValueError:\n",
    "    print('That is not a number.')\n",
    "else:\n",
    "    print(numberstr + ' is successfully registered.')"
   ]
  }
 ],
 "metadata": {
  "kernelspec": {
   "display_name": "Python 3",
   "language": "python",
   "name": "python3"
  },
  "language_info": {
   "codemirror_mode": {
    "name": "ipython",
    "version": 3
   },
   "file_extension": ".py",
   "mimetype": "text/x-python",
   "name": "python",
   "nbconvert_exporter": "python",
   "pygments_lexer": "ipython3",
   "version": "3.12.5"
  }
 },
 "nbformat": 4,
 "nbformat_minor": 2
}
